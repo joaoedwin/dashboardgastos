{
 "cells": [
  {
   "cell_type": "code",
   "execution_count": 3,
   "metadata": {},
   "outputs": [],
   "source": [
    "import plotly.graph_objs as go\n",
    "from plotly.subplots import make_subplots\n",
    "import ipywidgets as widgets\n",
    "from IPython.display import display\n",
    "\n",
    "# Dados\n",
    "categorias = ['Alimentação', 'Materiais Limpeza', 'Juros e Multas']\n",
    "gastos_2023_setor2 = [5759.25, 2482.50, 19.67]\n",
    "gastos_2024_setor2 = [5993.48, 4008.49, 48.39]\n",
    "gastos_2024_uberlandia = [3343.04, 1475.47, 0]  # Não há informações sobre os juros e multas\n",
    "\n",
    "# Função para criar o gráfico interativo\n",
    "def update_plot(ano):\n",
    "    fig = make_subplots(rows=1, cols=1)\n",
    "\n",
    "    if ano == 2023:\n",
    "        gastos_setor2 = gastos_2023_setor2\n",
    "        gastos_setor2_label = '2023 - Setor 2'\n",
    "        gastos_uberlandia = [0] * len(categorias)\n",
    "    elif ano == 2024:\n",
    "        gastos_setor2 = gastos_2024_setor2\n",
    "        gastos_setor2_label = '2024 - Setor 2'\n",
    "        gastos_uberlandia = gastos_2024_uberlandia\n",
    "\n",
    "    fig.add_trace(go.Bar(x=categorias, y=gastos_setor2, name=gastos_setor2_label))\n",
    "    fig.add_trace(go.Bar(x=categorias, y=gastos_uberlandia, name='2024 - Demais Setores'))\n",
    "\n",
    "    fig.update_layout(title=f'Comparação de Gastos entre Setor 2 e Demais Setores em Uberlândia em {ano}',\n",
    "                      xaxis_title='Categorias', yaxis_title='Gastos (R$)',\n",
    "                      barmode='group')\n",
    "    fig.show()\n",
    "\n",
    "# Widget para selecionar o ano\n",
    "ano_dropdown = widgets.Dropdown(options=[2023, 2024], value=2023, description='Ano:')\n",
    "widgets.interactive(update_plot, ano=ano_dropdown)\n"
   ]
  }
 ],
 "metadata": {
  "kernelspec": {
   "display_name": "Python 3",
   "language": "python",
   "name": "python3"
  },
  "language_info": {
   "codemirror_mode": {
    "name": "ipython",
    "version": 3
   },
   "file_extension": ".py",
   "mimetype": "text/x-python",
   "name": "python",
   "nbconvert_exporter": "python",
   "pygments_lexer": "ipython3",
   "version": "3.9.0"
  }
 },
 "nbformat": 4,
 "nbformat_minor": 2
}
